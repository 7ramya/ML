{
  "nbformat": 4,
  "nbformat_minor": 0,
  "metadata": {
    "colab": {
      "name": "DigitRecognition.ipynb",
      "provenance": [],
      "collapsed_sections": []
    },
    "kernelspec": {
      "name": "python3",
      "display_name": "Python 3"
    }
  },
  "cells": [
    {
      "cell_type": "code",
      "metadata": {
        "id": "Uhsh19qFTlvF",
        "colab_type": "code",
        "colab": {}
      },
      "source": [
        "from keras.datasets import mnist\n",
        "from matplotlib import pyplot\n",
        "from keras.utils import to_categorical\n",
        "from keras import Sequential\n",
        "from keras.layers import Conv2D,MaxPooling2D,Flatten,Dense\n",
        "from keras.optimizers import SGD\n",
        "from sklearn.model_selection import KFold\n",
        "from keras.models import load_model\n",
        "from keras.preprocessing.image import load_img\n",
        "from keras.preprocessing.image import img_to_array"
      ],
      "execution_count": 0,
      "outputs": []
    },
    {
      "cell_type": "code",
      "metadata": {
        "id": "1L3lNXLcT672",
        "colab_type": "code",
        "colab": {}
      },
      "source": [
        "def load_dataset():\n",
        "  (x_train,y_train),(x_test,y_test) = mnist.load_data()\n",
        "  #for i in range(9):\n",
        "  #pyplot.subplot(330 + 1 + i)\n",
        "  #pyplot.imshow(x_train[i], cmap=pyplot.get_cmap('gray'))\n",
        "  x_train = x_train.reshape(x_train.shape[0], x_train.shape[1], x_train.shape[2],1)\n",
        "  x_test = x_test.reshape(x_test.shape[0], x_test.shape[1], x_test.shape[2],1)\n",
        "  y_train = to_categorical(y_train)\n",
        "  y_test = to_categorical(y_test)\n",
        "  print(x_train.shape,x_test.shape)\n",
        "  print(y_train.shape,y_test.shape)\n",
        "  return (x_train,y_train,x_test,y_test)"
      ],
      "execution_count": 0,
      "outputs": []
    },
    {
      "cell_type": "code",
      "metadata": {
        "id": "6UZxKMUxfqSt",
        "colab_type": "code",
        "colab": {}
      },
      "source": [
        "def normalize(x_train,x_test):\n",
        "  x_train = x_train.astype('float32')\n",
        "  x_test = x_test.astype('float32')\n",
        "  x_train = x_train/255.0\n",
        "  x_test = x_test/255.0\n",
        "  return (x_train,x_test)"
      ],
      "execution_count": 0,
      "outputs": []
    },
    {
      "cell_type": "code",
      "metadata": {
        "id": "fZwJmDC-j7cC",
        "colab_type": "code",
        "colab": {}
      },
      "source": [
        "def model_definition():\n",
        "  model = Sequential()\n",
        "  model.add(Conv2D(32, (3,3), activation='relu',kernel_initializer='he_uniform',input_shape =(28,28,1)))\n",
        "  model.add(MaxPooling2D(2,2))\n",
        "  model.add(Flatten())\n",
        "  model.add(Dense(100,activation='relu',kernel_initializer='he_uniform'))\n",
        "  model.add(Dense(10,activation='softmax'))\n",
        "  opt = SGD(learning_rate=0.01,momentum=0.9)\n",
        "  model.compile(optimizer=opt, metrics=['accuracy'],loss = 'categorical_crossentropy')\n",
        "  return model\n"
      ],
      "execution_count": 0,
      "outputs": []
    },
    {
      "cell_type": "code",
      "metadata": {
        "id": "UH_kxzsxnoF1",
        "colab_type": "code",
        "colab": {}
      },
      "source": [
        "def evaluate_model(x_train,y_train, folds=5):\n",
        "  scores, histories = list(),list()\n",
        "  kfold = KFold(folds, shuffle=True,random_state=1)\n",
        "  for itrain,itest in kfold.split(x_train):\n",
        "    model = model_definition()\n",
        "    trainX, trainY, testX, testY = x_train[itrain], y_train[itrain], x_train[itest], y_train[itest]\n",
        "    history = model.fit(trainX,trainY,batch_size=32,epochs=10,validation_data=(testX,testY),verbose=0)\n",
        "    _,accuracy = model.evaluate(testX,testY,verbose = 0)\n",
        "    print('> %.3f' % (accuracy * 100.0))\n",
        "    scores.append(accuracy)\n",
        "    histories.append(history)\n",
        "  model.save('digit_recognition.h5')\n",
        "  return (scores,histories)"
      ],
      "execution_count": 0,
      "outputs": []
    },
    {
      "cell_type": "code",
      "metadata": {
        "id": "Xm8GPkrJsHhO",
        "colab_type": "code",
        "colab": {}
      },
      "source": [
        "from numpy import mean\n",
        "from numpy import std\n",
        "def summarize_diagnostics(histories):\n",
        "\tfor i in range(len(histories)):\n",
        "\t\tpyplot.subplot(2, 1, 1)\n",
        "\t\tpyplot.title('Cross Entropy Loss')\n",
        "\t\tpyplot.plot(histories[i].history['loss'], color='blue', label='train')\n",
        "\t\tpyplot.plot(histories[i].history['val_loss'], color='orange', label='test')\n",
        "\t\tpyplot.subplot(2, 1, 2)\n",
        "\t\tpyplot.title('Classification Accuracy')\n",
        "\t\tpyplot.plot(histories[i].history['accuracy'], color='blue', label='train')\n",
        "\t\tpyplot.plot(histories[i].history['val_accuracy'], color='orange', label='test')\n",
        "\tpyplot.show()\n",
        "\n",
        "\n",
        "def summarize_performance(scores):\n",
        "\tprint('Accuracy: mean=%.3f std=%.3f, n=%d' % (mean(scores)*100, std(scores)*100, len(scores)))\n",
        "\tpyplot.boxplot(scores)\n",
        "\tpyplot.show()"
      ],
      "execution_count": 0,
      "outputs": []
    },
    {
      "cell_type": "code",
      "metadata": {
        "id": "WKx-xqLizv2D",
        "colab_type": "code",
        "colab": {}
      },
      "source": [
        "def evaluate_train_data():\n",
        "\t# load dataset\n",
        "\ttrainX, trainY, testX, testY = load_dataset()\n",
        "\t# prepare pixel data\n",
        "\ttrainX, testX = normalize(trainX, testX)\n",
        "\t# evaluate model\n",
        "\tscores, histories = evaluate_model(trainX, trainY)\n",
        "\t# learning curves\n",
        "\tsummarize_diagnostics(histories)\n",
        "\t# summarize estimated performance\n",
        "\tsummarize_performance(scores)\n",
        " \n",
        "# entry point, run the test harness\n",
        "evaluate_train_data()"
      ],
      "execution_count": 0,
      "outputs": []
    },
    {
      "cell_type": "code",
      "metadata": {
        "id": "P-Xettpa-GNH",
        "colab_type": "code",
        "colab": {}
      },
      "source": [
        "def evaluate_test_data():\n",
        "  trainX, trainY, testX, testY = load_dataset()\n",
        "  trainX, testX = normalize(trainX, testX)\n",
        "  model = load_model('digit_recognition.h5')\n",
        "  _, acc = model.evaluate(testX,testY,verbose=1)\n",
        "  print('>%.3f' % (acc * 100.0))\n",
        "evaluate_test_data()"
      ],
      "execution_count": 0,
      "outputs": []
    },
    {
      "cell_type": "code",
      "metadata": {
        "id": "VeQSVepK7lpM",
        "colab_type": "code",
        "colab": {}
      },
      "source": [
        "#Prediction\n",
        "def load_image(filename):\n",
        "\timg = load_img(filename, grayscale=True, target_size=(28, 28))\n",
        "\timg = img_to_array(img)\n",
        "\timg = img.reshape(1, 28, 28, 1)\n",
        "\timg = img.astype('float32')\n",
        "\timg = img / 255.0\n",
        "\treturn img\n",
        "\n",
        "def predict_image():\n",
        "\timg = load_image('sample_image.png')\n",
        "\tmodel = load_model('digit_recognition.h5')\n",
        "\tdigit = model.predict_classes(img)\n",
        "\tprint(digit[0])\n",
        " \n",
        "predict_image()"
      ],
      "execution_count": 0,
      "outputs": []
    }
  ]
}