{
  "nbformat": 4,
  "nbformat_minor": 0,
  "metadata": {
    "colab": {
      "name": "Translator.ipynb",
      "provenance": []
    },
    "kernelspec": {
      "name": "python3",
      "display_name": "Python 3"
    }
  },
  "cells": [
    {
      "cell_type": "code",
      "metadata": {
        "id": "DsNA47hns8yE",
        "colab_type": "code",
        "colab": {}
      },
      "source": [
        "!sudo apt install tesseract-ocr\n",
        "!pip install pytesseract"
      ],
      "execution_count": 0,
      "outputs": []
    },
    {
      "cell_type": "code",
      "metadata": {
        "id": "awM9ZhHRtb0l",
        "colab_type": "code",
        "colab": {}
      },
      "source": [
        "!pip install goslate"
      ],
      "execution_count": 0,
      "outputs": []
    },
    {
      "cell_type": "code",
      "metadata": {
        "id": "Oku28gtRymE9",
        "colab_type": "code",
        "colab": {}
      },
      "source": [
        "!pip install langdetect"
      ],
      "execution_count": 0,
      "outputs": []
    },
    {
      "cell_type": "code",
      "metadata": {
        "id": "D2zUhOYxtMYs",
        "colab_type": "code",
        "colab": {}
      },
      "source": [
        "import pytesseract\n",
        "import os\n",
        "from PIL import Image\n",
        "import goslate\n",
        "from langdetect import detect"
      ],
      "execution_count": 0,
      "outputs": []
    },
    {
      "cell_type": "code",
      "metadata": {
        "id": "j1YOJI31toUE",
        "colab_type": "code",
        "colab": {}
      },
      "source": [
        "#convert image to string using pytesseract\n",
        "image = Image.open('hello.jpg')\n",
        "text = pytesseract.image_to_string(image)\n",
        "print(text)"
      ],
      "execution_count": 0,
      "outputs": []
    },
    {
      "cell_type": "code",
      "metadata": {
        "id": "TmvAqEugywDJ",
        "colab_type": "code",
        "colab": {}
      },
      "source": [
        "#detect the language using langdetect\n",
        "detect(text)"
      ],
      "execution_count": 0,
      "outputs": []
    },
    {
      "cell_type": "code",
      "metadata": {
        "id": "vjuj2DF3xQc3",
        "colab_type": "code",
        "colab": {}
      },
      "source": [
        "#translate the text to different languages\n",
        "gs = goslate.Goslate()\n",
        "translated = gs.translate(text,'de')\n",
        "print(translated)"
      ],
      "execution_count": 0,
      "outputs": []
    }
  ]
}